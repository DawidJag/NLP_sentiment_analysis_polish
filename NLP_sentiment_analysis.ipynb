{
  "nbformat": 4,
  "nbformat_minor": 0,
  "metadata": {
    "colab": {
      "name": "NLP_sentiment_analysis.ipynb",
      "provenance": [],
      "collapsed_sections": [],
      "mount_file_id": "1MciKMk8Jm-6K_oy9aaQAqj0tJlLB804X",
      "authorship_tag": "ABX9TyOijSyJfjY77bNoVvfwjKtP",
      "include_colab_link": true
    },
    "kernelspec": {
      "name": "python3",
      "display_name": "Python 3"
    }
  },
  "cells": [
    {
      "cell_type": "markdown",
      "metadata": {
        "id": "view-in-github",
        "colab_type": "text"
      },
      "source": [
        "<a href=\"https://colab.research.google.com/github/DawidJag/NLP_sentiment_analysis_polish/blob/main/NLP_sentiment_analysis.ipynb\" target=\"_parent\"><img src=\"https://colab.research.google.com/assets/colab-badge.svg\" alt=\"Open In Colab\"/></a>"
      ]
    },
    {
      "cell_type": "markdown",
      "metadata": {
        "id": "DoWj3-Mw4gqr"
      },
      "source": [
        "Our goal is to prepare model for sentiment analysis in texts written in Polish. As a base we will use srapped data (reviews) from allegro.pl website. "
      ]
    },
    {
      "cell_type": "code",
      "metadata": {
        "id": "m7YNAQVxQmq6"
      },
      "source": [
        "# importing neccessary libriaries\n",
        "import requests\n",
        "import pandas as pd\n",
        "from bs4 import BeautifulSoup\n"
      ],
      "execution_count": 1,
      "outputs": []
    },
    {
      "cell_type": "code",
      "metadata": {
        "id": "2ElT9hh2V5gh"
      },
      "source": [
        "# Create a function to scrape the data\n",
        "def scrape_data(page_number, sentiment='negative'):\n",
        "\n",
        "  if sentiment == 'negative':\n",
        "    sentiment_bool = 'false'\n",
        "  else:\n",
        "    sentiment_bool = 'true'\n",
        "\n",
        "  URL = 'https://allegro.pl/uzytkownik/OleOlepl/oceny?recommend=' + sentiment_bool + '&page=' + str(page_number)\n",
        "  page = requests.get(URL)\n",
        "  soup = BeautifulSoup(page.text, 'html.parser')\n",
        "\n",
        "  rows = soup.find_all('div', attrs={'class':\"_4lqfj\"})\n",
        "\n",
        "  for i in rows:\n",
        "    row = i.find('p', attrs={'class':'_1h7wt _9hx3e'})\n",
        "\n",
        "    text.append(row.text.strip())\n",
        "    sentiment_list.append(sentiment)\n",
        "\n",
        "  return (text, sentiment_list)"
      ],
      "execution_count": 2,
      "outputs": []
    },
    {
      "cell_type": "code",
      "metadata": {
        "id": "RBy5cgibleuI"
      },
      "source": [
        "# Extracting all data\n",
        "no_of_pages = 100\n",
        "\n",
        "# clearing the lists\n",
        "text = []\n",
        "sentiment_list = []\n",
        "\n",
        "for page in range(1,no_of_pages+1):\n",
        "  (text, sentiment_list) = scrape_data(page, sentiment='negative')\n",
        "\n",
        "for page in range(201,5*no_of_pages+1):\n",
        "  (text, sentiment_list) = scrape_data(page, sentiment='positive')"
      ],
      "execution_count": null,
      "outputs": []
    },
    {
      "cell_type": "code",
      "metadata": {
        "id": "KQ7DH2zFqGoM",
        "outputId": "7e48756c-e567-4280-d772-cc8ed4da0468",
        "colab": {
          "base_uri": "https://localhost:8080/",
          "height": 669
        }
      },
      "source": [
        "# Create a DataFrame with all data\n",
        "df = pd.DataFrame(columns=['text', 'sentiment'])\n",
        "df['text'] = text\n",
        "df['sentiment'] = sentiment_list\n",
        "\n",
        "df.head(20)"
      ],
      "execution_count": null,
      "outputs": [
        {
          "output_type": "execute_result",
          "data": {
            "text/html": [
              "<div>\n",
              "<style scoped>\n",
              "    .dataframe tbody tr th:only-of-type {\n",
              "        vertical-align: middle;\n",
              "    }\n",
              "\n",
              "    .dataframe tbody tr th {\n",
              "        vertical-align: top;\n",
              "    }\n",
              "\n",
              "    .dataframe thead th {\n",
              "        text-align: right;\n",
              "    }\n",
              "</style>\n",
              "<table border=\"1\" class=\"dataframe\">\n",
              "  <thead>\n",
              "    <tr style=\"text-align: right;\">\n",
              "      <th></th>\n",
              "      <th>text</th>\n",
              "      <th>sentiment</th>\n",
              "    </tr>\n",
              "  </thead>\n",
              "  <tbody>\n",
              "    <tr>\n",
              "      <th>0</th>\n",
              "      <td>\"Nie polecam.Lodówka z tyłu podklejonataśmą.Ja...</td>\n",
              "      <td>negative</td>\n",
              "    </tr>\n",
              "    <tr>\n",
              "      <th>1</th>\n",
              "      <td>\"Lodówka super (Niestety obsługa w sklepie nie...</td>\n",
              "      <td>negative</td>\n",
              "    </tr>\n",
              "    <tr>\n",
              "      <th>2</th>\n",
              "      <td>\"W ofercie sprzedaży sprzedający wyraźnie wska...</td>\n",
              "      <td>negative</td>\n",
              "    </tr>\n",
              "    <tr>\n",
              "      <th>3</th>\n",
              "      <td>\"Skandaliczna obsługa dostawców - co ważne są ...</td>\n",
              "      <td>negative</td>\n",
              "    </tr>\n",
              "    <tr>\n",
              "      <th>4</th>\n",
              "      <td>\"Otrzymałem zamówiony dzbanek filtrujący oznac...</td>\n",
              "      <td>negative</td>\n",
              "    </tr>\n",
              "    <tr>\n",
              "      <th>5</th>\n",
              "      <td>\"bardzo długi czas oczekiwania \"</td>\n",
              "      <td>negative</td>\n",
              "    </tr>\n",
              "    <tr>\n",
              "      <th>6</th>\n",
              "      <td>\"Tydzień oczekiwania na przesyłkę, która nie p...</td>\n",
              "      <td>negative</td>\n",
              "    </tr>\n",
              "    <tr>\n",
              "      <th>7</th>\n",
              "      <td>\"Dostawa darmowa, ale już o tym że wniesienie ...</td>\n",
              "      <td>negative</td>\n",
              "    </tr>\n",
              "    <tr>\n",
              "      <th>8</th>\n",
              "      <td>\"Absolutnie zalose w jaki sposob towar zostal ...</td>\n",
              "      <td>negative</td>\n",
              "    </tr>\n",
              "    <tr>\n",
              "      <th>9</th>\n",
              "      <td>\"Otrzymałem uszkodzony towar.  Zwrot deski do ...</td>\n",
              "      <td>negative</td>\n",
              "    </tr>\n",
              "    <tr>\n",
              "      <th>10</th>\n",
              "      <td>\"nie otrzymałam towaru obsługa klienta zupełni...</td>\n",
              "      <td>negative</td>\n",
              "    </tr>\n",
              "    <tr>\n",
              "      <th>11</th>\n",
              "      <td>\"Żałosny i prymitywny sposob prowadzenia konsu...</td>\n",
              "      <td>negative</td>\n",
              "    </tr>\n",
              "    <tr>\n",
              "      <th>12</th>\n",
              "      <td>\"dziadowska firma umawiaja czas dostawy pomied...</td>\n",
              "      <td>negative</td>\n",
              "    </tr>\n",
              "    <tr>\n",
              "      <th>13</th>\n",
              "      <td>\"Negatywa daję za skandaliczne zapakowanie dro...</td>\n",
              "      <td>negative</td>\n",
              "    </tr>\n",
              "    <tr>\n",
              "      <th>14</th>\n",
              "      <td>\"Po 8 dniach okazało się że towaru nie ma w ma...</td>\n",
              "      <td>negative</td>\n",
              "    </tr>\n",
              "    <tr>\n",
              "      <th>15</th>\n",
              "      <td>\"Zamówienie złożone 8.11, planowana wysyłka 16...</td>\n",
              "      <td>negative</td>\n",
              "    </tr>\n",
              "    <tr>\n",
              "      <th>16</th>\n",
              "      <td>\"Tv kupiony z opcją przesyłki kurierskiej. Po ...</td>\n",
              "      <td>negative</td>\n",
              "    </tr>\n",
              "    <tr>\n",
              "      <th>17</th>\n",
              "      <td>\"Sposób pakowania produktu bardzo niedbały. Dz...</td>\n",
              "      <td>negative</td>\n",
              "    </tr>\n",
              "    <tr>\n",
              "      <th>18</th>\n",
              "      <td>\"Paczka byla zapakowana w taki sposob, ze prze...</td>\n",
              "      <td>negative</td>\n",
              "    </tr>\n",
              "    <tr>\n",
              "      <th>19</th>\n",
              "      <td>\"Brak  informacji o tym że towar gabarytowo je...</td>\n",
              "      <td>negative</td>\n",
              "    </tr>\n",
              "  </tbody>\n",
              "</table>\n",
              "</div>"
            ],
            "text/plain": [
              "                                                 text sentiment\n",
              "0   \"Nie polecam.Lodówka z tyłu podklejonataśmą.Ja...  negative\n",
              "1   \"Lodówka super (Niestety obsługa w sklepie nie...  negative\n",
              "2   \"W ofercie sprzedaży sprzedający wyraźnie wska...  negative\n",
              "3   \"Skandaliczna obsługa dostawców - co ważne są ...  negative\n",
              "4   \"Otrzymałem zamówiony dzbanek filtrujący oznac...  negative\n",
              "5                    \"bardzo długi czas oczekiwania \"  negative\n",
              "6   \"Tydzień oczekiwania na przesyłkę, która nie p...  negative\n",
              "7   \"Dostawa darmowa, ale już o tym że wniesienie ...  negative\n",
              "8   \"Absolutnie zalose w jaki sposob towar zostal ...  negative\n",
              "9   \"Otrzymałem uszkodzony towar.  Zwrot deski do ...  negative\n",
              "10  \"nie otrzymałam towaru obsługa klienta zupełni...  negative\n",
              "11  \"Żałosny i prymitywny sposob prowadzenia konsu...  negative\n",
              "12  \"dziadowska firma umawiaja czas dostawy pomied...  negative\n",
              "13  \"Negatywa daję za skandaliczne zapakowanie dro...  negative\n",
              "14  \"Po 8 dniach okazało się że towaru nie ma w ma...  negative\n",
              "15  \"Zamówienie złożone 8.11, planowana wysyłka 16...  negative\n",
              "16  \"Tv kupiony z opcją przesyłki kurierskiej. Po ...  negative\n",
              "17  \"Sposób pakowania produktu bardzo niedbały. Dz...  negative\n",
              "18  \"Paczka byla zapakowana w taki sposob, ze prze...  negative\n",
              "19  \"Brak  informacji o tym że towar gabarytowo je...  negative"
            ]
          },
          "metadata": {
            "tags": []
          },
          "execution_count": 21
        }
      ]
    },
    {
      "cell_type": "code",
      "metadata": {
        "id": "RXTfy65aqVFU"
      },
      "source": [
        "df.to_csv('scrapped_data.csv')"
      ],
      "execution_count": null,
      "outputs": []
    },
    {
      "cell_type": "code",
      "metadata": {
        "id": "VOHkUCpbhOZC",
        "outputId": "6e3c0dba-dc54-4b52-ec41-13bc05428ea9",
        "colab": {
          "base_uri": "https://localhost:8080/",
          "height": 204
        }
      },
      "source": [
        "# Additional cell with code which should be run only if we use already scrapped data from csv file ('scrapped_data.csv')\n",
        "\n",
        "df = pd.read_csv('scrapped_data.csv', )\n",
        "df = df.drop('Unnamed: 0', axis=1)\n",
        "df.head()"
      ],
      "execution_count": 3,
      "outputs": [
        {
          "output_type": "execute_result",
          "data": {
            "text/html": [
              "<div>\n",
              "<style scoped>\n",
              "    .dataframe tbody tr th:only-of-type {\n",
              "        vertical-align: middle;\n",
              "    }\n",
              "\n",
              "    .dataframe tbody tr th {\n",
              "        vertical-align: top;\n",
              "    }\n",
              "\n",
              "    .dataframe thead th {\n",
              "        text-align: right;\n",
              "    }\n",
              "</style>\n",
              "<table border=\"1\" class=\"dataframe\">\n",
              "  <thead>\n",
              "    <tr style=\"text-align: right;\">\n",
              "      <th></th>\n",
              "      <th>text</th>\n",
              "      <th>sentiment</th>\n",
              "    </tr>\n",
              "  </thead>\n",
              "  <tbody>\n",
              "    <tr>\n",
              "      <th>0</th>\n",
              "      <td>\"Nie polecam.Lodówka z tyłu podklejonataśmą.Ja...</td>\n",
              "      <td>negative</td>\n",
              "    </tr>\n",
              "    <tr>\n",
              "      <th>1</th>\n",
              "      <td>\"Lodówka super (Niestety obsługa w sklepie nie...</td>\n",
              "      <td>negative</td>\n",
              "    </tr>\n",
              "    <tr>\n",
              "      <th>2</th>\n",
              "      <td>\"W ofercie sprzedaży sprzedający wyraźnie wska...</td>\n",
              "      <td>negative</td>\n",
              "    </tr>\n",
              "    <tr>\n",
              "      <th>3</th>\n",
              "      <td>\"Skandaliczna obsługa dostawców - co ważne są ...</td>\n",
              "      <td>negative</td>\n",
              "    </tr>\n",
              "    <tr>\n",
              "      <th>4</th>\n",
              "      <td>\"Otrzymałem zamówiony dzbanek filtrujący oznac...</td>\n",
              "      <td>negative</td>\n",
              "    </tr>\n",
              "  </tbody>\n",
              "</table>\n",
              "</div>"
            ],
            "text/plain": [
              "                                                text sentiment\n",
              "0  \"Nie polecam.Lodówka z tyłu podklejonataśmą.Ja...  negative\n",
              "1  \"Lodówka super (Niestety obsługa w sklepie nie...  negative\n",
              "2  \"W ofercie sprzedaży sprzedający wyraźnie wska...  negative\n",
              "3  \"Skandaliczna obsługa dostawców - co ważne są ...  negative\n",
              "4  \"Otrzymałem zamówiony dzbanek filtrujący oznac...  negative"
            ]
          },
          "metadata": {
            "tags": []
          },
          "execution_count": 3
        }
      ]
    },
    {
      "cell_type": "code",
      "metadata": {
        "id": "UgvpF7FIg2uX",
        "outputId": "f9ebafaf-b8f2-4f7c-ee13-2abc23c4dabb",
        "colab": {
          "base_uri": "https://localhost:8080/"
        }
      },
      "source": [
        "df.shape"
      ],
      "execution_count": 5,
      "outputs": [
        {
          "output_type": "execute_result",
          "data": {
            "text/plain": [
              "(3389, 2)"
            ]
          },
          "metadata": {
            "tags": []
          },
          "execution_count": 5
        }
      ]
    },
    {
      "cell_type": "code",
      "metadata": {
        "id": "02PV4F8tm7xy",
        "outputId": "05fc8133-d9bc-475a-92ea-be80fb81a395",
        "colab": {
          "base_uri": "https://localhost:8080/"
        }
      },
      "source": [
        "df['sentiment'].value_counts()"
      ],
      "execution_count": 6,
      "outputs": [
        {
          "output_type": "execute_result",
          "data": {
            "text/plain": [
              "positive    1726\n",
              "negative    1663\n",
              "Name: sentiment, dtype: int64"
            ]
          },
          "metadata": {
            "tags": []
          },
          "execution_count": 6
        }
      ]
    },
    {
      "cell_type": "code",
      "metadata": {
        "id": "Q25H96x2oiCm",
        "outputId": "38ceac66-3802-41f1-f0e1-be8099900ccf",
        "colab": {
          "base_uri": "https://localhost:8080/",
          "height": 359
        }
      },
      "source": [
        "# Dataset preprocessing \n",
        "df['text'].replace(regex=True,inplace=True,to_replace=r'[\\,\"-()]',value=r'')\n",
        "df['text'].replace(regex=True,inplace=True,to_replace=r'[\\.]',value=r' ')\n",
        "\n",
        "df['text'] = df['text'].str.lower()\n",
        "df.head(10)"
      ],
      "execution_count": 4,
      "outputs": [
        {
          "output_type": "execute_result",
          "data": {
            "text/html": [
              "<div>\n",
              "<style scoped>\n",
              "    .dataframe tbody tr th:only-of-type {\n",
              "        vertical-align: middle;\n",
              "    }\n",
              "\n",
              "    .dataframe tbody tr th {\n",
              "        vertical-align: top;\n",
              "    }\n",
              "\n",
              "    .dataframe thead th {\n",
              "        text-align: right;\n",
              "    }\n",
              "</style>\n",
              "<table border=\"1\" class=\"dataframe\">\n",
              "  <thead>\n",
              "    <tr style=\"text-align: right;\">\n",
              "      <th></th>\n",
              "      <th>text</th>\n",
              "      <th>sentiment</th>\n",
              "    </tr>\n",
              "  </thead>\n",
              "  <tbody>\n",
              "    <tr>\n",
              "      <th>0</th>\n",
              "      <td>nie polecam lodówka z tyłu podklejonataśmą jak...</td>\n",
              "      <td>negative</td>\n",
              "    </tr>\n",
              "    <tr>\n",
              "      <th>1</th>\n",
              "      <td>lodówka super niestety obsługa w sklepie nieko...</td>\n",
              "      <td>negative</td>\n",
              "    </tr>\n",
              "    <tr>\n",
              "      <th>2</th>\n",
              "      <td>w ofercie sprzedaży sprzedający wyraźnie wskaz...</td>\n",
              "      <td>negative</td>\n",
              "    </tr>\n",
              "    <tr>\n",
              "      <th>3</th>\n",
              "      <td>skandaliczna obsługa dostawców - co ważne są o...</td>\n",
              "      <td>negative</td>\n",
              "    </tr>\n",
              "    <tr>\n",
              "      <th>4</th>\n",
              "      <td>otrzymałem zamówiony dzbanek filtrujący oznacz...</td>\n",
              "      <td>negative</td>\n",
              "    </tr>\n",
              "    <tr>\n",
              "      <th>5</th>\n",
              "      <td>bardzo długi czas oczekiwania</td>\n",
              "      <td>negative</td>\n",
              "    </tr>\n",
              "    <tr>\n",
              "      <th>6</th>\n",
              "      <td>tydzień oczekiwania na przesyłkę która nie prz...</td>\n",
              "      <td>negative</td>\n",
              "    </tr>\n",
              "    <tr>\n",
              "      <th>7</th>\n",
              "      <td>dostawa darmowa ale już o tym że wniesienie od...</td>\n",
              "      <td>negative</td>\n",
              "    </tr>\n",
              "    <tr>\n",
              "      <th>8</th>\n",
              "      <td>absolutnie zalose w jaki sposob towar zostal z...</td>\n",
              "      <td>negative</td>\n",
              "    </tr>\n",
              "    <tr>\n",
              "      <th>9</th>\n",
              "      <td>otrzymałem uszkodzony towar   zwrot deski do p...</td>\n",
              "      <td>negative</td>\n",
              "    </tr>\n",
              "  </tbody>\n",
              "</table>\n",
              "</div>"
            ],
            "text/plain": [
              "                                                text sentiment\n",
              "0  nie polecam lodówka z tyłu podklejonataśmą jak...  negative\n",
              "1  lodówka super niestety obsługa w sklepie nieko...  negative\n",
              "2  w ofercie sprzedaży sprzedający wyraźnie wskaz...  negative\n",
              "3  skandaliczna obsługa dostawców - co ważne są o...  negative\n",
              "4  otrzymałem zamówiony dzbanek filtrujący oznacz...  negative\n",
              "5                     bardzo długi czas oczekiwania   negative\n",
              "6  tydzień oczekiwania na przesyłkę która nie prz...  negative\n",
              "7  dostawa darmowa ale już o tym że wniesienie od...  negative\n",
              "8  absolutnie zalose w jaki sposob towar zostal z...  negative\n",
              "9  otrzymałem uszkodzony towar   zwrot deski do p...  negative"
            ]
          },
          "metadata": {
            "tags": []
          },
          "execution_count": 4
        }
      ]
    },
    {
      "cell_type": "markdown",
      "metadata": {
        "id": "5btJgF7-to0w"
      },
      "source": [
        "## **Model**\n",
        "\n",
        "---\n",
        "\n"
      ]
    },
    {
      "cell_type": "code",
      "metadata": {
        "id": "UpA63QWZrjZo"
      },
      "source": [
        "from sklearn.model_selection import train_test_split"
      ],
      "execution_count": 5,
      "outputs": []
    },
    {
      "cell_type": "code",
      "metadata": {
        "id": "jO1hRYP_t8o2"
      },
      "source": [
        "# Preparation of the data\n",
        "X = df['text'].values\n",
        "y = df['sentiment'].values\n",
        "\n",
        "X_train, X_test, y_train, y_test = train_test_split(X, y, test_size=0.2, shuffle=True, random_state=42)"
      ],
      "execution_count": 6,
      "outputs": []
    },
    {
      "cell_type": "markdown",
      "metadata": {
        "id": "u8Od7PFjwEys"
      },
      "source": [
        "Bag of words vectorization"
      ]
    },
    {
      "cell_type": "code",
      "metadata": {
        "id": "a4bA1UsKvUtu"
      },
      "source": [
        "from sklearn.feature_extraction.text import CountVectorizer, TfidfVectorizer\n",
        "\n",
        "# vectorizer = CountVectorizer()\n",
        "vectorizer = TfidfVectorizer(sublinear_tf=True, max_df=0.5, ngram_range=(1,2))\n",
        "X_train_vectors = vectorizer.fit_transform(X_train)\n",
        "X_test_vectors = vectorizer.transform(X_test)\n"
      ],
      "execution_count": 7,
      "outputs": []
    },
    {
      "cell_type": "code",
      "metadata": {
        "id": "0LyBCZyu3gj-",
        "outputId": "d9dacb39-8497-4df0-e8fa-2d9c89b8f7c3",
        "colab": {
          "base_uri": "https://localhost:8080/"
        }
      },
      "source": [
        "print(X_train_vectors.shape)\n",
        "print(X_test_vectors.shape)\n",
        "print(y_train.shape)\n",
        "print(y_test.shape)"
      ],
      "execution_count": 8,
      "outputs": [
        {
          "output_type": "stream",
          "text": [
            "(2711, 40734)\n",
            "(678, 40734)\n",
            "(2711,)\n",
            "(678,)\n"
          ],
          "name": "stdout"
        }
      ]
    },
    {
      "cell_type": "markdown",
      "metadata": {
        "id": "_ZMuMfBWyakM"
      },
      "source": [
        "## Classification\n",
        "\n",
        "We will check 4 models:\n",
        "\n",
        "\n",
        "*   SVC\n",
        "*   Logistic regression\n",
        "*   Decision tree classifier\n",
        "*   Random forest classifier\n",
        "\n",
        "\n",
        "\n"
      ]
    },
    {
      "cell_type": "code",
      "metadata": {
        "id": "uHOqRcPfyb8f"
      },
      "source": [
        "from sklearn.svm import SVC\n",
        "from sklearn.linear_model import LogisticRegression\n",
        "from sklearn.tree import DecisionTreeClassifier\n",
        "from sklearn.ensemble import RandomForestClassifier\n",
        "\n",
        "\n",
        "clf_svm = SVC(kernel='linear', random_state=42)\n",
        "clf_svm.fit(X_train_vectors, y_train)\n",
        "y_pred_svm = clf_svm.predict(X_test_vectors)\n",
        "\n",
        "clf_log = LogisticRegression(random_state=42)\n",
        "clf_log.fit(X_train_vectors, y_train)\n",
        "y_pred_log = clf_log.predict(X_test_vectors)\n",
        "\n",
        "clf_tree = DecisionTreeClassifier(random_state=42)\n",
        "clf_tree.fit(X_train_vectors, y_train)\n",
        "y_pred_tree = clf_tree.predict(X_test_vectors)\n",
        "\n",
        "clf_forest = RandomForestClassifier(random_state=42)\n",
        "clf_forest.fit(X_train_vectors, y_train)\n",
        "y_pred_forest = clf_forest.predict(X_test_vectors)"
      ],
      "execution_count": 9,
      "outputs": []
    },
    {
      "cell_type": "markdown",
      "metadata": {
        "id": "h2ghgT4E6tfT"
      },
      "source": [
        "Evaluation of models"
      ]
    },
    {
      "cell_type": "code",
      "metadata": {
        "id": "bydCcHLJztWl",
        "outputId": "23c33a27-c445-44d6-bc35-9a9d10d4daed",
        "colab": {
          "base_uri": "https://localhost:8080/"
        }
      },
      "source": [
        "print(clf_svm.score(X_test_vectors, y_test))\n",
        "print(clf_log.score(X_test_vectors, y_test))\n",
        "print(clf_tree.score(X_test_vectors, y_test))\n",
        "print(clf_forest.score(X_test_vectors, y_test))"
      ],
      "execution_count": 10,
      "outputs": [
        {
          "output_type": "stream",
          "text": [
            "0.9380530973451328\n",
            "0.9365781710914455\n",
            "0.8849557522123894\n",
            "0.9100294985250738\n"
          ],
          "name": "stdout"
        }
      ]
    },
    {
      "cell_type": "code",
      "metadata": {
        "id": "i8ULskBH8Bs3",
        "outputId": "67ccc746-332d-46a8-e295-1c5a3cea5bb8",
        "colab": {
          "base_uri": "https://localhost:8080/"
        }
      },
      "source": [
        "from sklearn.metrics import f1_score\n",
        "\n",
        "print(f1_score(y_test, y_pred_svm, average=None))\n",
        "print(f1_score(y_test, y_pred_log, average=None))\n",
        "print(f1_score(y_test, y_pred_tree, average=None))\n",
        "print(f1_score(y_test, y_pred_forest, average=None))"
      ],
      "execution_count": 11,
      "outputs": [
        {
          "output_type": "stream",
          "text": [
            "[0.94150418 0.93416928]\n",
            "[0.94133697 0.93097913]\n",
            "[0.88323353 0.88662791]\n",
            "[0.91223022 0.90771558]\n"
          ],
          "name": "stdout"
        }
      ]
    },
    {
      "cell_type": "markdown",
      "metadata": {
        "id": "mC44_k0y60hm"
      },
      "source": [
        "As we can see our models reached quite high accuracy. Let's check how they will perform with manually created examples."
      ]
    },
    {
      "cell_type": "code",
      "metadata": {
        "id": "5yWN1NqW8n-y",
        "outputId": "ad60e006-a92e-4a38-a9ce-541be3b99904",
        "colab": {
          "base_uri": "https://localhost:8080/"
        }
      },
      "source": [
        "# Checking predictions on randomly created examples\n",
        "test_set = ['ta książka jest słaba.', 'lampka przyszła zniszczona', 'sprzęt godny polecenia', 'naprawdę dobry sprzęt']\n",
        "new_set = vectorizer.transform(test_set)\n",
        "\n",
        "print(clf_svm.predict(new_set))\n",
        "print(clf_log.predict(new_set))\n",
        "print(clf_tree.predict(new_set))\n",
        "print(clf_forest.predict(new_set))"
      ],
      "execution_count": 16,
      "outputs": [
        {
          "output_type": "stream",
          "text": [
            "['negative' 'positive' 'positive' 'positive']\n",
            "['negative' 'negative' 'positive' 'positive']\n",
            "['positive' 'positive' 'positive' 'positive']\n",
            "['positive' 'positive' 'positive' 'positive']\n"
          ],
          "name": "stdout"
        }
      ]
    },
    {
      "cell_type": "markdown",
      "metadata": {
        "id": "6cIjDBCS7SqV"
      },
      "source": [
        "Results: \n",
        "only logistic regression predict correctly sentiment. We will try hyperparameter tuning to see if we can improve these results."
      ]
    },
    {
      "cell_type": "markdown",
      "metadata": {
        "id": "usM-98YWYIIH"
      },
      "source": [
        "### Hyperparameters tunning"
      ]
    },
    {
      "cell_type": "code",
      "metadata": {
        "id": "hgzTAFfXYKAt"
      },
      "source": [
        "# Preparation of param grids for all classifiers\n",
        "svm_grid = {'kernel': ['linear', 'rbf', 'poly'], 'C': [1,4,8,16,32], 'random_state': [42]}\n",
        "log_grid = {'penalty': ['l1', 'l2'], 'C': [1,4,8,16,32], 'solver': ['lbfgs', 'liblinear'], 'random_state': [42]}\n",
        "tree_grid = {'criterion': ['gini', 'entropy'], 'max_depth': [2,4,6,8,10], 'min_samples_leaf': [4,5,6,7,8,9], 'random_state': [42]}\n",
        "forest_grid = {'n_estimators': [100,150,200], 'criterion': ['entropy'], 'max_depth': [6,8,10,12,14], 'min_samples_leaf': [4,5,6], 'random_state': [42]}"
      ],
      "execution_count": 28,
      "outputs": []
    },
    {
      "cell_type": "code",
      "metadata": {
        "id": "YrCiX5mFb3bn",
        "outputId": "aa3f5736-b80e-4bc6-ed1a-4c17e926ccd7",
        "colab": {
          "base_uri": "https://localhost:8080/"
        }
      },
      "source": [
        "from sklearn.model_selection import GridSearchCV\n",
        "\n",
        "gs_svm = GridSearchCV(SVC(), param_grid = svm_grid, cv=5, verbose=True)\n",
        "gs_svm.fit(X_train_vectors, y_train)\n",
        "\n",
        "gs_svm.score(X_test_vectors, y_test)"
      ],
      "execution_count": 14,
      "outputs": [
        {
          "output_type": "stream",
          "text": [
            "Fitting 5 folds for each of 15 candidates, totalling 75 fits\n"
          ],
          "name": "stdout"
        },
        {
          "output_type": "stream",
          "text": [
            "[Parallel(n_jobs=1)]: Using backend SequentialBackend with 1 concurrent workers.\n",
            "[Parallel(n_jobs=1)]: Done  75 out of  75 | elapsed:  1.4min finished\n"
          ],
          "name": "stderr"
        },
        {
          "output_type": "execute_result",
          "data": {
            "text/plain": [
              "0.93952802359882"
            ]
          },
          "metadata": {
            "tags": []
          },
          "execution_count": 14
        }
      ]
    },
    {
      "cell_type": "code",
      "metadata": {
        "id": "w-GZ88Fuc_Oo",
        "outputId": "0808653a-35f4-4dec-ab45-02fce08d1862",
        "colab": {
          "base_uri": "https://localhost:8080/"
        }
      },
      "source": [
        "gs_log = GridSearchCV(LogisticRegression(), param_grid = log_grid, cv=5, verbose=True)\n",
        "gs_log.fit(X_train_vectors, y_train)\n",
        "\n",
        "gs_log.score(X_test_vectors, y_test)"
      ],
      "execution_count": 15,
      "outputs": [
        {
          "output_type": "stream",
          "text": [
            "Fitting 5 folds for each of 20 candidates, totalling 100 fits\n"
          ],
          "name": "stdout"
        },
        {
          "output_type": "stream",
          "text": [
            "[Parallel(n_jobs=1)]: Using backend SequentialBackend with 1 concurrent workers.\n",
            "/usr/local/lib/python3.6/dist-packages/sklearn/model_selection/_validation.py:536: FitFailedWarning: Estimator fit failed. The score on this train-test partition for these parameters will be set to nan. Details: \n",
            "ValueError: Solver lbfgs supports only 'l2' or 'none' penalties, got l1 penalty.\n",
            "\n",
            "  FitFailedWarning)\n",
            "/usr/local/lib/python3.6/dist-packages/sklearn/model_selection/_validation.py:536: FitFailedWarning: Estimator fit failed. The score on this train-test partition for these parameters will be set to nan. Details: \n",
            "ValueError: Solver lbfgs supports only 'l2' or 'none' penalties, got l1 penalty.\n",
            "\n",
            "  FitFailedWarning)\n",
            "/usr/local/lib/python3.6/dist-packages/sklearn/model_selection/_validation.py:536: FitFailedWarning: Estimator fit failed. The score on this train-test partition for these parameters will be set to nan. Details: \n",
            "ValueError: Solver lbfgs supports only 'l2' or 'none' penalties, got l1 penalty.\n",
            "\n",
            "  FitFailedWarning)\n",
            "/usr/local/lib/python3.6/dist-packages/sklearn/svm/_base.py:947: ConvergenceWarning: Liblinear failed to converge, increase the number of iterations.\n",
            "  \"the number of iterations.\", ConvergenceWarning)\n",
            "/usr/local/lib/python3.6/dist-packages/sklearn/model_selection/_validation.py:536: FitFailedWarning: Estimator fit failed. The score on this train-test partition for these parameters will be set to nan. Details: \n",
            "ValueError: Solver lbfgs supports only 'l2' or 'none' penalties, got l1 penalty.\n",
            "\n",
            "  FitFailedWarning)\n",
            "/usr/local/lib/python3.6/dist-packages/sklearn/model_selection/_validation.py:536: FitFailedWarning: Estimator fit failed. The score on this train-test partition for these parameters will be set to nan. Details: \n",
            "ValueError: Solver lbfgs supports only 'l2' or 'none' penalties, got l1 penalty.\n",
            "\n",
            "  FitFailedWarning)\n",
            "[Parallel(n_jobs=1)]: Done 100 out of 100 | elapsed:   16.1s finished\n"
          ],
          "name": "stderr"
        },
        {
          "output_type": "execute_result",
          "data": {
            "text/plain": [
              "0.93952802359882"
            ]
          },
          "metadata": {
            "tags": []
          },
          "execution_count": 15
        }
      ]
    },
    {
      "cell_type": "code",
      "metadata": {
        "id": "r6I2PRgbdpXn",
        "outputId": "19125e53-7930-45dd-a6b2-fa9f65fa8747",
        "colab": {
          "base_uri": "https://localhost:8080/"
        }
      },
      "source": [
        "gs_tree = GridSearchCV(DecisionTreeClassifier(), param_grid = tree_grid, cv=5, verbose=True)\n",
        "gs_tree.fit(X_train_vectors, y_train)\n",
        "\n",
        "gs_tree.score(X_test_vectors, y_test)"
      ],
      "execution_count": 16,
      "outputs": [
        {
          "output_type": "stream",
          "text": [
            "Fitting 5 folds for each of 60 candidates, totalling 300 fits\n"
          ],
          "name": "stdout"
        },
        {
          "output_type": "stream",
          "text": [
            "[Parallel(n_jobs=1)]: Using backend SequentialBackend with 1 concurrent workers.\n",
            "[Parallel(n_jobs=1)]: Done 300 out of 300 | elapsed:   45.8s finished\n"
          ],
          "name": "stderr"
        },
        {
          "output_type": "execute_result",
          "data": {
            "text/plain": [
              "0.8716814159292036"
            ]
          },
          "metadata": {
            "tags": []
          },
          "execution_count": 16
        }
      ]
    },
    {
      "cell_type": "code",
      "metadata": {
        "id": "eoINJ1DIeURB",
        "outputId": "fedc24fc-b8b0-4201-80cf-8e0a69df1b42",
        "colab": {
          "base_uri": "https://localhost:8080/"
        }
      },
      "source": [
        "gs_forest = GridSearchCV(RandomForestClassifier(), param_grid = forest_grid, cv=5, verbose=True, n_jobs=-1)\n",
        "gs_forest.fit(X_train_vectors, y_train)\n",
        "\n",
        "gs_forest.score(X_test_vectors, y_test)"
      ],
      "execution_count": 29,
      "outputs": [
        {
          "output_type": "stream",
          "text": [
            "Fitting 5 folds for each of 45 candidates, totalling 225 fits\n"
          ],
          "name": "stdout"
        },
        {
          "output_type": "stream",
          "text": [
            "[Parallel(n_jobs=-1)]: Using backend LokyBackend with 2 concurrent workers.\n",
            "[Parallel(n_jobs=-1)]: Done  46 tasks      | elapsed:   23.9s\n",
            "[Parallel(n_jobs=-1)]: Done 196 tasks      | elapsed:  2.1min\n",
            "[Parallel(n_jobs=-1)]: Done 225 out of 225 | elapsed:  2.5min finished\n"
          ],
          "name": "stderr"
        },
        {
          "output_type": "execute_result",
          "data": {
            "text/plain": [
              "0.8569321533923304"
            ]
          },
          "metadata": {
            "tags": []
          },
          "execution_count": 29
        }
      ]
    },
    {
      "cell_type": "code",
      "metadata": {
        "id": "kBChyAi1enpE",
        "outputId": "c25a8adf-84c4-41e9-9570-85b87e6864de",
        "colab": {
          "base_uri": "https://localhost:8080/"
        }
      },
      "source": [
        "print(f'SVM score: {clf_svm.score(X_test_vectors, y_test):.4f} vs Grid Search score: {gs_svm.score(X_test_vectors, y_test):.4f}')\n",
        "print(f'Logistic regression score: {clf_log.score(X_test_vectors, y_test):.4f} vs Grid Search score: {gs_log.score(X_test_vectors, y_test):.4f}')\n",
        "print(f'Decision tree score: {clf_tree.score(X_test_vectors, y_test):.4f} vs Grid Search score: {gs_tree.score(X_test_vectors, y_test):.4f}')\n",
        "print(f'Random forest score: {clf_forest.score(X_test_vectors, y_test):.4f} vs Grid Search score: {gs_forest.score(X_test_vectors, y_test):.4f}')"
      ],
      "execution_count": 31,
      "outputs": [
        {
          "output_type": "stream",
          "text": [
            "SVM score: 0.9381 vs Grid Search score: 0.9395\n",
            "Logistic regression score: 0.9366 vs Grid Search score: 0.9395\n",
            "Decision tree score: 0.8850 vs Grid Search score: 0.8717\n",
            "Random forest score: 0.9100 vs Grid Search score: 0.8569\n"
          ],
          "name": "stdout"
        }
      ]
    },
    {
      "cell_type": "markdown",
      "metadata": {
        "id": "2-PX5D9yhcMV"
      },
      "source": [
        "Conclusions:\n",
        "as we can see in this case grid search hasn't brought much improvement to our models. SVM model and logistic regression performed almost on the same level of accuracy (~93%). Next steps would be to go further with hyperparameters tuning for those two models and attempt to obtain more data (especially from different sources to have wider range of words).\n",
        "\n",
        "\n",
        "---\n"
      ]
    },
    {
      "cell_type": "markdown",
      "metadata": {
        "id": "Bs7jHNKX74SJ"
      },
      "source": [
        "To have bigger dataset we have downloaded data available on the following gitHub profile: https://github.com/Ermlab/pl-sentiment-analysis\n",
        "\n",
        "As author of this dataset wrote on the profile data has been collected from few sources:\n",
        "\n",
        "1. Opineo - Polish service with all reviews from online shops\n",
        "2. Twitter - Polish current top hashtags from political news and Polish Election Campaign 2015\n",
        "3. Polish Academy of Science HateSpeech project\n",
        "4. YouTube - comments from various videos\n",
        "\n",
        "\n",
        "\n",
        "\n",
        "\n"
      ]
    },
    {
      "cell_type": "code",
      "metadata": {
        "id": "5JhHCQjVi1jr",
        "outputId": "832fdffc-ac2d-45dc-fc0e-8298a41a0d35",
        "colab": {
          "base_uri": "https://localhost:8080/"
        }
      },
      "source": [
        "data = pd.read_csv('Kopia polish_sentiment_dataset.csv')\n",
        "# data = df.drop('Unnamed: 0', axis=1)\n",
        "data.shape"
      ],
      "execution_count": 174,
      "outputs": [
        {
          "output_type": "execute_result",
          "data": {
            "text/plain": [
              "(936883, 3)"
            ]
          },
          "metadata": {
            "tags": []
          },
          "execution_count": 174
        }
      ]
    },
    {
      "cell_type": "code",
      "metadata": {
        "id": "CJWB1WIFVKiL",
        "outputId": "73fb37eb-14a7-4eb2-d3f2-1e6f8b5b2320",
        "colab": {
          "base_uri": "https://localhost:8080/",
          "height": 204
        }
      },
      "source": [
        "data.head()"
      ],
      "execution_count": 175,
      "outputs": [
        {
          "output_type": "execute_result",
          "data": {
            "text/html": [
              "<div>\n",
              "<style scoped>\n",
              "    .dataframe tbody tr th:only-of-type {\n",
              "        vertical-align: middle;\n",
              "    }\n",
              "\n",
              "    .dataframe tbody tr th {\n",
              "        vertical-align: top;\n",
              "    }\n",
              "\n",
              "    .dataframe thead th {\n",
              "        text-align: right;\n",
              "    }\n",
              "</style>\n",
              "<table border=\"1\" class=\"dataframe\">\n",
              "  <thead>\n",
              "    <tr style=\"text-align: right;\">\n",
              "      <th></th>\n",
              "      <th>description</th>\n",
              "      <th>length</th>\n",
              "      <th>rate</th>\n",
              "    </tr>\n",
              "  </thead>\n",
              "  <tbody>\n",
              "    <tr>\n",
              "      <th>0</th>\n",
              "      <td>Polecam nie pierwszy i nie ostatni raz!</td>\n",
              "      <td>39.0</td>\n",
              "      <td>1.0</td>\n",
              "    </tr>\n",
              "    <tr>\n",
              "      <th>1</th>\n",
              "      <td>Bardzo dobra komunikacja sms i telefoniczna. Z...</td>\n",
              "      <td>121.0</td>\n",
              "      <td>1.0</td>\n",
              "    </tr>\n",
              "    <tr>\n",
              "      <th>2</th>\n",
              "      <td>Polecam zakupy w tym sklepie. Są dostępne częś...</td>\n",
              "      <td>87.0</td>\n",
              "      <td>1.0</td>\n",
              "    </tr>\n",
              "    <tr>\n",
              "      <th>3</th>\n",
              "      <td>0</td>\n",
              "      <td>0.0</td>\n",
              "      <td>0.0</td>\n",
              "    </tr>\n",
              "    <tr>\n",
              "      <th>4</th>\n",
              "      <td>Jestem w pełni zadowolona z przebiegu transakcji</td>\n",
              "      <td>48.0</td>\n",
              "      <td>1.0</td>\n",
              "    </tr>\n",
              "  </tbody>\n",
              "</table>\n",
              "</div>"
            ],
            "text/plain": [
              "                                         description  length  rate\n",
              "0            Polecam nie pierwszy i nie ostatni raz!    39.0   1.0\n",
              "1  Bardzo dobra komunikacja sms i telefoniczna. Z...   121.0   1.0\n",
              "2  Polecam zakupy w tym sklepie. Są dostępne częś...    87.0   1.0\n",
              "3                                                  0     0.0   0.0\n",
              "4   Jestem w pełni zadowolona z przebiegu transakcji    48.0   1.0"
            ]
          },
          "metadata": {
            "tags": []
          },
          "execution_count": 175
        }
      ]
    },
    {
      "cell_type": "code",
      "metadata": {
        "id": "XLhGYHB_YMty",
        "outputId": "4c6dc54f-c91e-470c-d17a-bd471432333a",
        "colab": {
          "base_uri": "https://localhost:8080/"
        }
      },
      "source": [
        "# Let's check if our data is balanced\n",
        "data['rate'].value_counts()"
      ],
      "execution_count": 178,
      "outputs": [
        {
          "output_type": "execute_result",
          "data": {
            "text/plain": [
              " 1.0    734250\n",
              "-1.0    184020\n",
              " 0.0     18547\n",
              "Name: rate, dtype: int64"
            ]
          },
          "metadata": {
            "tags": []
          },
          "execution_count": 178
        }
      ]
    },
    {
      "cell_type": "code",
      "metadata": {
        "id": "K-djmNpWYiGD",
        "outputId": "405b9f40-b467-4ccf-9f63-268a4ef53bb9",
        "colab": {
          "base_uri": "https://localhost:8080/",
          "height": 419
        }
      },
      "source": [
        "# As we have imbalanced data we will do undersamplig\n",
        "data_positive = data[data['rate'] == 1].sample(n=184020, random_state=42)\n",
        "data_negative = data[data['rate'] == -1]\n",
        "\n",
        "data_new = data_positive.append(data_negative, ignore_index=True)\n",
        "data_new['text'] = data_new['description']\n",
        "data_new['sentiment'] = data_new['rate'].map({1: 'positive', -1: 'negative'})\n",
        "data_new = data_new.drop(['description', 'rate', 'length'], axis=1)\n",
        "data_new"
      ],
      "execution_count": 187,
      "outputs": [
        {
          "output_type": "execute_result",
          "data": {
            "text/html": [
              "<div>\n",
              "<style scoped>\n",
              "    .dataframe tbody tr th:only-of-type {\n",
              "        vertical-align: middle;\n",
              "    }\n",
              "\n",
              "    .dataframe tbody tr th {\n",
              "        vertical-align: top;\n",
              "    }\n",
              "\n",
              "    .dataframe thead th {\n",
              "        text-align: right;\n",
              "    }\n",
              "</style>\n",
              "<table border=\"1\" class=\"dataframe\">\n",
              "  <thead>\n",
              "    <tr style=\"text-align: right;\">\n",
              "      <th></th>\n",
              "      <th>text</th>\n",
              "      <th>sentiment</th>\n",
              "    </tr>\n",
              "  </thead>\n",
              "  <tbody>\n",
              "    <tr>\n",
              "      <th>0</th>\n",
              "      <td>Wszystko w porządku! Sprawnie, dostałem to, co...</td>\n",
              "      <td>positive</td>\n",
              "    </tr>\n",
              "    <tr>\n",
              "      <th>1</th>\n",
              "      <td>Polecam serdecznie . Korzystam często</td>\n",
              "      <td>positive</td>\n",
              "    </tr>\n",
              "    <tr>\n",
              "      <th>2</th>\n",
              "      <td>Bardzo miła i szybka obsługa pomimo mojej pomy...</td>\n",
              "      <td>positive</td>\n",
              "    </tr>\n",
              "    <tr>\n",
              "      <th>3</th>\n",
              "      <td>Wiarygodny, rzetelny,. bardzo szybka realizacj...</td>\n",
              "      <td>positive</td>\n",
              "    </tr>\n",
              "    <tr>\n",
              "      <th>4</th>\n",
              "      <td>Ogólna Ocena na 5 . Niestety nie było wszystki...</td>\n",
              "      <td>positive</td>\n",
              "    </tr>\n",
              "    <tr>\n",
              "      <th>...</th>\n",
              "      <td>...</td>\n",
              "      <td>...</td>\n",
              "    </tr>\n",
              "    <tr>\n",
              "      <th>368035</th>\n",
              "      <td>Coraz lepiej wygląda</td>\n",
              "      <td>negative</td>\n",
              "    </tr>\n",
              "    <tr>\n",
              "      <th>368036</th>\n",
              "      <td>JA SRAM NA TEN PIERSCIONEK I NA CIEBIE CHWILE ...</td>\n",
              "      <td>negative</td>\n",
              "    </tr>\n",
              "    <tr>\n",
              "      <th>368037</th>\n",
              "      <td>Rafatus do Marleny  Ty kurwo bez honoru       ...</td>\n",
              "      <td>negative</td>\n",
              "    </tr>\n",
              "    <tr>\n",
              "      <th>368038</th>\n",
              "      <td>matka Marleny   prosi o pomoc</td>\n",
              "      <td>negative</td>\n",
              "    </tr>\n",
              "    <tr>\n",
              "      <th>368039</th>\n",
              "      <td>wiesz człowieku że on ją nawet nie uderzył i m...</td>\n",
              "      <td>negative</td>\n",
              "    </tr>\n",
              "  </tbody>\n",
              "</table>\n",
              "<p>368040 rows × 2 columns</p>\n",
              "</div>"
            ],
            "text/plain": [
              "                                                     text sentiment\n",
              "0       Wszystko w porządku! Sprawnie, dostałem to, co...  positive\n",
              "1                   Polecam serdecznie . Korzystam często  positive\n",
              "2       Bardzo miła i szybka obsługa pomimo mojej pomy...  positive\n",
              "3       Wiarygodny, rzetelny,. bardzo szybka realizacj...  positive\n",
              "4       Ogólna Ocena na 5 . Niestety nie było wszystki...  positive\n",
              "...                                                   ...       ...\n",
              "368035                              Coraz lepiej wygląda   negative\n",
              "368036  JA SRAM NA TEN PIERSCIONEK I NA CIEBIE CHWILE ...  negative\n",
              "368037  Rafatus do Marleny  Ty kurwo bez honoru       ...  negative\n",
              "368038                      matka Marleny   prosi o pomoc  negative\n",
              "368039  wiesz człowieku że on ją nawet nie uderzył i m...  negative\n",
              "\n",
              "[368040 rows x 2 columns]"
            ]
          },
          "metadata": {
            "tags": []
          },
          "execution_count": 187
        }
      ]
    },
    {
      "cell_type": "code",
      "metadata": {
        "id": "hYHTnnf0jEhn",
        "outputId": "e851ba86-4a5c-4a50-fe3e-7c68629d3d8b",
        "colab": {
          "base_uri": "https://localhost:8080/",
          "height": 359
        }
      },
      "source": [
        "# Data preprocessing\n",
        "data_new['text'].replace(regex=True,inplace=True,to_replace=r'[\\,\"-()!]',value=r'')\n",
        "data_new['text'].replace(regex=True,inplace=True,to_replace=r'[\\.]',value=r' ')\n",
        "\n",
        "data_new['text'] = data_new['text'].str.lower()\n",
        "data_new.head(10)"
      ],
      "execution_count": 189,
      "outputs": [
        {
          "output_type": "execute_result",
          "data": {
            "text/html": [
              "<div>\n",
              "<style scoped>\n",
              "    .dataframe tbody tr th:only-of-type {\n",
              "        vertical-align: middle;\n",
              "    }\n",
              "\n",
              "    .dataframe tbody tr th {\n",
              "        vertical-align: top;\n",
              "    }\n",
              "\n",
              "    .dataframe thead th {\n",
              "        text-align: right;\n",
              "    }\n",
              "</style>\n",
              "<table border=\"1\" class=\"dataframe\">\n",
              "  <thead>\n",
              "    <tr style=\"text-align: right;\">\n",
              "      <th></th>\n",
              "      <th>text</th>\n",
              "      <th>sentiment</th>\n",
              "    </tr>\n",
              "  </thead>\n",
              "  <tbody>\n",
              "    <tr>\n",
              "      <th>0</th>\n",
              "      <td>wszystko w porządku sprawnie dostałem to co za...</td>\n",
              "      <td>positive</td>\n",
              "    </tr>\n",
              "    <tr>\n",
              "      <th>1</th>\n",
              "      <td>polecam serdecznie   korzystam często</td>\n",
              "      <td>positive</td>\n",
              "    </tr>\n",
              "    <tr>\n",
              "      <th>2</th>\n",
              "      <td>bardzo miła i szybka obsługa pomimo mojej pomy...</td>\n",
              "      <td>positive</td>\n",
              "    </tr>\n",
              "    <tr>\n",
              "      <th>3</th>\n",
              "      <td>wiarygodny rzetelny  bardzo szybka realizacja ...</td>\n",
              "      <td>positive</td>\n",
              "    </tr>\n",
              "    <tr>\n",
              "      <th>4</th>\n",
              "      <td>ogólna ocena na 5   niestety nie było wszystki...</td>\n",
              "      <td>positive</td>\n",
              "    </tr>\n",
              "    <tr>\n",
              "      <th>5</th>\n",
              "      <td>transakcja bez zastrzeżeń dość szybko i najważ...</td>\n",
              "      <td>positive</td>\n",
              "    </tr>\n",
              "    <tr>\n",
              "      <th>6</th>\n",
              "      <td>chyba najlepszy sklep internetowy naprawdę god...</td>\n",
              "      <td>positive</td>\n",
              "    </tr>\n",
              "    <tr>\n",
              "      <th>7</th>\n",
              "      <td>wszystko sprawnie ekspresowa dostawa  polecam</td>\n",
              "      <td>positive</td>\n",
              "    </tr>\n",
              "    <tr>\n",
              "      <th>8</th>\n",
              "      <td>korzystałam z usług uwolnijkolory pl już kilka...</td>\n",
              "      <td>positive</td>\n",
              "    </tr>\n",
              "    <tr>\n",
              "      <th>9</th>\n",
              "      <td>obsługa na najwyższym poziomie  szybko towar w...</td>\n",
              "      <td>positive</td>\n",
              "    </tr>\n",
              "  </tbody>\n",
              "</table>\n",
              "</div>"
            ],
            "text/plain": [
              "                                                text sentiment\n",
              "0  wszystko w porządku sprawnie dostałem to co za...  positive\n",
              "1              polecam serdecznie   korzystam często  positive\n",
              "2  bardzo miła i szybka obsługa pomimo mojej pomy...  positive\n",
              "3  wiarygodny rzetelny  bardzo szybka realizacja ...  positive\n",
              "4  ogólna ocena na 5   niestety nie było wszystki...  positive\n",
              "5  transakcja bez zastrzeżeń dość szybko i najważ...  positive\n",
              "6  chyba najlepszy sklep internetowy naprawdę god...  positive\n",
              "7      wszystko sprawnie ekspresowa dostawa  polecam  positive\n",
              "8  korzystałam z usług uwolnijkolory pl już kilka...  positive\n",
              "9  obsługa na najwyższym poziomie  szybko towar w...  positive"
            ]
          },
          "metadata": {
            "tags": []
          },
          "execution_count": 189
        }
      ]
    },
    {
      "cell_type": "code",
      "metadata": {
        "id": "YdyYvJCLjR5u",
        "outputId": "f9ad42a1-1c40-42d0-8048-e11ce7e30a10",
        "colab": {
          "base_uri": "https://localhost:8080/",
          "height": 419
        }
      },
      "source": [
        "# Adding new data to our dataset scrapped from allegro.pl\n",
        "df_extended = df.append(data_new, ignore_index=True)\n",
        "df_extended"
      ],
      "execution_count": 190,
      "outputs": [
        {
          "output_type": "execute_result",
          "data": {
            "text/html": [
              "<div>\n",
              "<style scoped>\n",
              "    .dataframe tbody tr th:only-of-type {\n",
              "        vertical-align: middle;\n",
              "    }\n",
              "\n",
              "    .dataframe tbody tr th {\n",
              "        vertical-align: top;\n",
              "    }\n",
              "\n",
              "    .dataframe thead th {\n",
              "        text-align: right;\n",
              "    }\n",
              "</style>\n",
              "<table border=\"1\" class=\"dataframe\">\n",
              "  <thead>\n",
              "    <tr style=\"text-align: right;\">\n",
              "      <th></th>\n",
              "      <th>text</th>\n",
              "      <th>sentiment</th>\n",
              "    </tr>\n",
              "  </thead>\n",
              "  <tbody>\n",
              "    <tr>\n",
              "      <th>0</th>\n",
              "      <td>nie polecam lodówka z tyłu podklejonataśmą jak...</td>\n",
              "      <td>negative</td>\n",
              "    </tr>\n",
              "    <tr>\n",
              "      <th>1</th>\n",
              "      <td>lodówka super niestety obsługa w sklepie nieko...</td>\n",
              "      <td>negative</td>\n",
              "    </tr>\n",
              "    <tr>\n",
              "      <th>2</th>\n",
              "      <td>w ofercie sprzedaży sprzedający wyraźnie wskaz...</td>\n",
              "      <td>negative</td>\n",
              "    </tr>\n",
              "    <tr>\n",
              "      <th>3</th>\n",
              "      <td>skandaliczna obsługa dostawców - co ważne są o...</td>\n",
              "      <td>negative</td>\n",
              "    </tr>\n",
              "    <tr>\n",
              "      <th>4</th>\n",
              "      <td>otrzymałem zamówiony dzbanek filtrujący oznacz...</td>\n",
              "      <td>negative</td>\n",
              "    </tr>\n",
              "    <tr>\n",
              "      <th>...</th>\n",
              "      <td>...</td>\n",
              "      <td>...</td>\n",
              "    </tr>\n",
              "    <tr>\n",
              "      <th>371424</th>\n",
              "      <td>coraz lepiej wygląda</td>\n",
              "      <td>negative</td>\n",
              "    </tr>\n",
              "    <tr>\n",
              "      <th>371425</th>\n",
              "      <td>ja sram na ten pierscionek i na ciebie chwile ...</td>\n",
              "      <td>negative</td>\n",
              "    </tr>\n",
              "    <tr>\n",
              "      <th>371426</th>\n",
              "      <td>rafatus do marleny  ty kurwo bez honoru       ...</td>\n",
              "      <td>negative</td>\n",
              "    </tr>\n",
              "    <tr>\n",
              "      <th>371427</th>\n",
              "      <td>matka marleny   prosi o pomoc</td>\n",
              "      <td>negative</td>\n",
              "    </tr>\n",
              "    <tr>\n",
              "      <th>371428</th>\n",
              "      <td>wiesz człowieku że on ją nawet nie uderzył i m...</td>\n",
              "      <td>negative</td>\n",
              "    </tr>\n",
              "  </tbody>\n",
              "</table>\n",
              "<p>371429 rows × 2 columns</p>\n",
              "</div>"
            ],
            "text/plain": [
              "                                                     text sentiment\n",
              "0       nie polecam lodówka z tyłu podklejonataśmą jak...  negative\n",
              "1       lodówka super niestety obsługa w sklepie nieko...  negative\n",
              "2       w ofercie sprzedaży sprzedający wyraźnie wskaz...  negative\n",
              "3       skandaliczna obsługa dostawców - co ważne są o...  negative\n",
              "4       otrzymałem zamówiony dzbanek filtrujący oznacz...  negative\n",
              "...                                                   ...       ...\n",
              "371424                              coraz lepiej wygląda   negative\n",
              "371425  ja sram na ten pierscionek i na ciebie chwile ...  negative\n",
              "371426  rafatus do marleny  ty kurwo bez honoru       ...  negative\n",
              "371427                      matka marleny   prosi o pomoc  negative\n",
              "371428  wiesz człowieku że on ją nawet nie uderzył i m...  negative\n",
              "\n",
              "[371429 rows x 2 columns]"
            ]
          },
          "metadata": {
            "tags": []
          },
          "execution_count": 190
        }
      ]
    },
    {
      "cell_type": "code",
      "metadata": {
        "id": "2WPdtWsOm_Qw"
      },
      "source": [
        "# df_extended.to_csv('data_extended.csv')"
      ],
      "execution_count": 25,
      "outputs": []
    },
    {
      "cell_type": "code",
      "metadata": {
        "id": "r7VpWenF3m1y",
        "outputId": "c12f6a58-3bdd-442f-ad58-fd4f8e6bee18",
        "colab": {
          "base_uri": "https://localhost:8080/",
          "height": 419
        }
      },
      "source": [
        "# Additional cell with code which should be run only if we use already scrapped data from csv file ('scrapped_data.csv')\n",
        "df_extended = pd.read_csv('data_extended_NLP_sentiment_analysis.csv')\n",
        "df_extended = df_extended.drop('Unnamed: 0', axis=1)\n",
        "df_extended"
      ],
      "execution_count": 34,
      "outputs": [
        {
          "output_type": "execute_result",
          "data": {
            "text/html": [
              "<div>\n",
              "<style scoped>\n",
              "    .dataframe tbody tr th:only-of-type {\n",
              "        vertical-align: middle;\n",
              "    }\n",
              "\n",
              "    .dataframe tbody tr th {\n",
              "        vertical-align: top;\n",
              "    }\n",
              "\n",
              "    .dataframe thead th {\n",
              "        text-align: right;\n",
              "    }\n",
              "</style>\n",
              "<table border=\"1\" class=\"dataframe\">\n",
              "  <thead>\n",
              "    <tr style=\"text-align: right;\">\n",
              "      <th></th>\n",
              "      <th>text</th>\n",
              "      <th>sentiment</th>\n",
              "    </tr>\n",
              "  </thead>\n",
              "  <tbody>\n",
              "    <tr>\n",
              "      <th>0</th>\n",
              "      <td>nie polecam lodówka z tyłu podklejonataśmą jak...</td>\n",
              "      <td>negative</td>\n",
              "    </tr>\n",
              "    <tr>\n",
              "      <th>1</th>\n",
              "      <td>lodówka super niestety obsługa w sklepie nieko...</td>\n",
              "      <td>negative</td>\n",
              "    </tr>\n",
              "    <tr>\n",
              "      <th>2</th>\n",
              "      <td>w ofercie sprzedaży sprzedający wyraźnie wskaz...</td>\n",
              "      <td>negative</td>\n",
              "    </tr>\n",
              "    <tr>\n",
              "      <th>3</th>\n",
              "      <td>skandaliczna obsługa dostawców - co ważne są o...</td>\n",
              "      <td>negative</td>\n",
              "    </tr>\n",
              "    <tr>\n",
              "      <th>4</th>\n",
              "      <td>otrzymałem zamówiony dzbanek filtrujący oznacz...</td>\n",
              "      <td>negative</td>\n",
              "    </tr>\n",
              "    <tr>\n",
              "      <th>...</th>\n",
              "      <td>...</td>\n",
              "      <td>...</td>\n",
              "    </tr>\n",
              "    <tr>\n",
              "      <th>371441</th>\n",
              "      <td>coraz lepiej wygląda</td>\n",
              "      <td>negative</td>\n",
              "    </tr>\n",
              "    <tr>\n",
              "      <th>371442</th>\n",
              "      <td>ja sram na ten pierscionek i na ciebie chwile ...</td>\n",
              "      <td>negative</td>\n",
              "    </tr>\n",
              "    <tr>\n",
              "      <th>371443</th>\n",
              "      <td>rafatus do marleny  ty kurwo bez honoru       ...</td>\n",
              "      <td>negative</td>\n",
              "    </tr>\n",
              "    <tr>\n",
              "      <th>371444</th>\n",
              "      <td>matka marleny   prosi o pomoc</td>\n",
              "      <td>negative</td>\n",
              "    </tr>\n",
              "    <tr>\n",
              "      <th>371445</th>\n",
              "      <td>wiesz człowieku że on ją nawet nie uderzył i m...</td>\n",
              "      <td>negative</td>\n",
              "    </tr>\n",
              "  </tbody>\n",
              "</table>\n",
              "<p>371446 rows × 2 columns</p>\n",
              "</div>"
            ],
            "text/plain": [
              "                                                     text sentiment\n",
              "0       nie polecam lodówka z tyłu podklejonataśmą jak...  negative\n",
              "1       lodówka super niestety obsługa w sklepie nieko...  negative\n",
              "2       w ofercie sprzedaży sprzedający wyraźnie wskaz...  negative\n",
              "3       skandaliczna obsługa dostawców - co ważne są o...  negative\n",
              "4       otrzymałem zamówiony dzbanek filtrujący oznacz...  negative\n",
              "...                                                   ...       ...\n",
              "371441                              coraz lepiej wygląda   negative\n",
              "371442  ja sram na ten pierscionek i na ciebie chwile ...  negative\n",
              "371443  rafatus do marleny  ty kurwo bez honoru       ...  negative\n",
              "371444                      matka marleny   prosi o pomoc  negative\n",
              "371445  wiesz człowieku że on ją nawet nie uderzył i m...  negative\n",
              "\n",
              "[371446 rows x 2 columns]"
            ]
          },
          "metadata": {
            "tags": []
          },
          "execution_count": 34
        }
      ]
    },
    {
      "cell_type": "code",
      "metadata": {
        "id": "I3pAC2eF6RJK",
        "outputId": "a80cd2a7-7c1b-43b5-9e24-509b3a49d2ec",
        "colab": {
          "base_uri": "https://localhost:8080/",
          "height": 419
        }
      },
      "source": [
        "# Checking if we have NA values in new dataset\n",
        "df_extended[df_extended['text'].isna() == True]"
      ],
      "execution_count": 35,
      "outputs": [
        {
          "output_type": "execute_result",
          "data": {
            "text/html": [
              "<div>\n",
              "<style scoped>\n",
              "    .dataframe tbody tr th:only-of-type {\n",
              "        vertical-align: middle;\n",
              "    }\n",
              "\n",
              "    .dataframe tbody tr th {\n",
              "        vertical-align: top;\n",
              "    }\n",
              "\n",
              "    .dataframe thead th {\n",
              "        text-align: right;\n",
              "    }\n",
              "</style>\n",
              "<table border=\"1\" class=\"dataframe\">\n",
              "  <thead>\n",
              "    <tr style=\"text-align: right;\">\n",
              "      <th></th>\n",
              "      <th>text</th>\n",
              "      <th>sentiment</th>\n",
              "    </tr>\n",
              "  </thead>\n",
              "  <tbody>\n",
              "    <tr>\n",
              "      <th>50912</th>\n",
              "      <td>NaN</td>\n",
              "      <td>NaN</td>\n",
              "    </tr>\n",
              "    <tr>\n",
              "      <th>54310</th>\n",
              "      <td>NaN</td>\n",
              "      <td>NaN</td>\n",
              "    </tr>\n",
              "    <tr>\n",
              "      <th>71441</th>\n",
              "      <td>NaN</td>\n",
              "      <td>NaN</td>\n",
              "    </tr>\n",
              "    <tr>\n",
              "      <th>79253</th>\n",
              "      <td>NaN</td>\n",
              "      <td>NaN</td>\n",
              "    </tr>\n",
              "    <tr>\n",
              "      <th>82035</th>\n",
              "      <td>NaN</td>\n",
              "      <td>NaN</td>\n",
              "    </tr>\n",
              "    <tr>\n",
              "      <th>...</th>\n",
              "      <td>...</td>\n",
              "      <td>...</td>\n",
              "    </tr>\n",
              "    <tr>\n",
              "      <th>371108</th>\n",
              "      <td>NaN</td>\n",
              "      <td>negative</td>\n",
              "    </tr>\n",
              "    <tr>\n",
              "      <th>371167</th>\n",
              "      <td>NaN</td>\n",
              "      <td>negative</td>\n",
              "    </tr>\n",
              "    <tr>\n",
              "      <th>371334</th>\n",
              "      <td>NaN</td>\n",
              "      <td>negative</td>\n",
              "    </tr>\n",
              "    <tr>\n",
              "      <th>371348</th>\n",
              "      <td>NaN</td>\n",
              "      <td>negative</td>\n",
              "    </tr>\n",
              "    <tr>\n",
              "      <th>371352</th>\n",
              "      <td>NaN</td>\n",
              "      <td>negative</td>\n",
              "    </tr>\n",
              "  </tbody>\n",
              "</table>\n",
              "<p>644 rows × 2 columns</p>\n",
              "</div>"
            ],
            "text/plain": [
              "       text sentiment\n",
              "50912   NaN       NaN\n",
              "54310   NaN       NaN\n",
              "71441   NaN       NaN\n",
              "79253   NaN       NaN\n",
              "82035   NaN       NaN\n",
              "...     ...       ...\n",
              "371108  NaN  negative\n",
              "371167  NaN  negative\n",
              "371334  NaN  negative\n",
              "371348  NaN  negative\n",
              "371352  NaN  negative\n",
              "\n",
              "[644 rows x 2 columns]"
            ]
          },
          "metadata": {
            "tags": []
          },
          "execution_count": 35
        }
      ]
    },
    {
      "cell_type": "code",
      "metadata": {
        "id": "4MLVmtv36wEz",
        "outputId": "8e016696-37f6-430f-fe30-d602ae0307d3",
        "colab": {
          "base_uri": "https://localhost:8080/",
          "height": 49
        }
      },
      "source": [
        "# Removing NA values\n",
        "df_extended = df_extended.dropna()\n",
        "df_extended[df_extended['text'].isna() == True]"
      ],
      "execution_count": 36,
      "outputs": [
        {
          "output_type": "execute_result",
          "data": {
            "text/html": [
              "<div>\n",
              "<style scoped>\n",
              "    .dataframe tbody tr th:only-of-type {\n",
              "        vertical-align: middle;\n",
              "    }\n",
              "\n",
              "    .dataframe tbody tr th {\n",
              "        vertical-align: top;\n",
              "    }\n",
              "\n",
              "    .dataframe thead th {\n",
              "        text-align: right;\n",
              "    }\n",
              "</style>\n",
              "<table border=\"1\" class=\"dataframe\">\n",
              "  <thead>\n",
              "    <tr style=\"text-align: right;\">\n",
              "      <th></th>\n",
              "      <th>text</th>\n",
              "      <th>sentiment</th>\n",
              "    </tr>\n",
              "  </thead>\n",
              "  <tbody>\n",
              "  </tbody>\n",
              "</table>\n",
              "</div>"
            ],
            "text/plain": [
              "Empty DataFrame\n",
              "Columns: [text, sentiment]\n",
              "Index: []"
            ]
          },
          "metadata": {
            "tags": []
          },
          "execution_count": 36
        }
      ]
    },
    {
      "cell_type": "markdown",
      "metadata": {
        "id": "xKoXXjsumTat"
      },
      "source": [
        "Let's train our models again with larger dataset"
      ]
    },
    {
      "cell_type": "code",
      "metadata": {
        "id": "6nuQLghm47wS"
      },
      "source": [
        "# Preparation of the data\n",
        "data_tmp = df_extended.sample(frac=0.2, replace=False, random_state=42) # big data set => first training on smaller sample\n",
        "\n",
        "X_ext = data_tmp['text'].values\n",
        "y_ext = data_tmp['sentiment'].values\n",
        "\n",
        "X_train_ext, X_test_ext, y_train_ext, y_test_ext = train_test_split(X_ext, y_ext, test_size=0.2, shuffle=True, random_state=42)\n",
        "\n",
        "vectorizer_ext = TfidfVectorizer(sublinear_tf=True, max_df=0.5, ngram_range=(1,2))\n",
        "X_train_ext_vectors = vectorizer_ext.fit_transform(X_train_ext)\n",
        "X_test_ext_vectors = vectorizer_ext.transform(X_test_ext)\n"
      ],
      "execution_count": 61,
      "outputs": []
    },
    {
      "cell_type": "code",
      "metadata": {
        "id": "PZnay5ik7Lld",
        "outputId": "8f58c7e3-aff6-4963-d05c-63397dc8ab72",
        "colab": {
          "base_uri": "https://localhost:8080/"
        }
      },
      "source": [
        "print(X_train_ext_vectors.shape)\n",
        "print(X_test_ext_vectors.shape)\n",
        "print(y_train_ext.shape)\n",
        "print(y_test_ext.shape)"
      ],
      "execution_count": 62,
      "outputs": [
        {
          "output_type": "stream",
          "text": [
            "(59325, 485006)\n",
            "(14832, 485006)\n",
            "(59325,)\n",
            "(14832,)\n"
          ],
          "name": "stdout"
        }
      ]
    },
    {
      "cell_type": "code",
      "metadata": {
        "id": "uJ5kvEoz4mLX",
        "outputId": "793113c5-5d25-4b42-f4ee-dab747aa1fb9",
        "colab": {
          "base_uri": "https://localhost:8080/"
        }
      },
      "source": [
        "clf_svm_ext = SVC(kernel='linear', random_state=42)\n",
        "clf_svm_ext.fit(X_train_ext_vectors, y_train_ext)\n",
        "# y_pred_svm_ext = clf_svm_ext.predict(X_test_ext_vectors)\n",
        "\n",
        "print(clf_svm_ext.score(X_test_ext_vectors, y_test_ext))"
      ],
      "execution_count": 63,
      "outputs": [
        {
          "output_type": "stream",
          "text": [
            "0.9837513484358145\n"
          ],
          "name": "stdout"
        }
      ]
    },
    {
      "cell_type": "code",
      "metadata": {
        "id": "mZoR0N0n7qc6",
        "outputId": "97f19485-75ad-40ba-a0fd-ab3a8e040229",
        "colab": {
          "base_uri": "https://localhost:8080/"
        }
      },
      "source": [
        "clf_log_ext = LogisticRegression(random_state=42)\n",
        "clf_log_ext.fit(X_train_ext_vectors, y_train_ext)\n",
        "# y_pred_log_ext = clf_log_ext.predict(X_test_ext_vectors)\n",
        "\n",
        "print(clf_log_ext.score(X_test_ext_vectors, y_test_ext))"
      ],
      "execution_count": 54,
      "outputs": [
        {
          "output_type": "stream",
          "text": [
            "0.9777498089630062\n"
          ],
          "name": "stdout"
        }
      ]
    },
    {
      "cell_type": "code",
      "metadata": {
        "id": "fCC17voDjTdk",
        "outputId": "1d11c07d-6da3-409b-f2db-09ec74247d18",
        "colab": {
          "base_uri": "https://localhost:8080/"
        }
      },
      "source": [
        "clf_tree_ext = DecisionTreeClassifier(random_state=42)\n",
        "clf_tree_ext.fit(X_train_ext_vectors, y_train_ext)\n",
        "# y_pred_tree_ext = clf_tree_ext.predict(X_test_ext_vectors)\n",
        "\n",
        "print(clf_tree_ext.score(X_test_ext_vectors, y_test_ext))"
      ],
      "execution_count": 55,
      "outputs": [
        {
          "output_type": "stream",
          "text": [
            "0.962197150177552\n"
          ],
          "name": "stdout"
        }
      ]
    },
    {
      "cell_type": "code",
      "metadata": {
        "id": "2zVzXum2jeXz",
        "outputId": "1a5a7709-0669-4bfb-b9d4-13642ef832af",
        "colab": {
          "base_uri": "https://localhost:8080/"
        }
      },
      "source": [
        "clf_forest_ext = RandomForestClassifier(random_state=42)\n",
        "clf_forest_ext.fit(X_train_ext_vectors, y_train_ext)\n",
        "# y_pred_forest_ext = clf_forest_ext.predict(X_test_ext_vectors)\n",
        "\n",
        "print(clf_forest_ext.score(X_test_ext_vectors, y_test_ext))"
      ],
      "execution_count": 56,
      "outputs": [
        {
          "output_type": "stream",
          "text": [
            "0.9784690070571312\n"
          ],
          "name": "stdout"
        }
      ]
    },
    {
      "cell_type": "code",
      "metadata": {
        "id": "U5nUf2OXkeCS",
        "outputId": "9321898a-1a43-4480-cc79-c6f3e3ff8dce",
        "colab": {
          "base_uri": "https://localhost:8080/"
        }
      },
      "source": [
        "# Checking predictions on randomly created examples\n",
        "test_set_2 = ['ta trasa nie będzie dla nas dobra', 'to ciasto było za słone', 'gra jest zabawna', \n",
        "              'produkt wart swojej ceny', 'towar do dupy', 'bardzo fajny sprzedawca', 'w miarę szybka przesyłka']\n",
        "new_set_2 = vectorizer_ext.transform(test_set_2)\n",
        "\n",
        "print(clf_svm_ext.predict(new_set_2))\n",
        "print(clf_log_ext.predict(new_set_2))\n",
        "print(clf_tree_ext.predict(new_set_2))\n",
        "print(clf_forest_ext.predict(new_set_2))"
      ],
      "execution_count": 59,
      "outputs": [
        {
          "output_type": "stream",
          "text": [
            "['negative' 'negative' 'negative' 'positive' 'negative' 'positive'\n",
            " 'positive']\n",
            "['negative' 'negative' 'negative' 'positive' 'negative' 'positive'\n",
            " 'positive']\n",
            "['negative' 'negative' 'negative' 'positive' 'positive' 'positive'\n",
            " 'positive']\n",
            "['negative' 'negative' 'negative' 'positive' 'negative' 'positive'\n",
            " 'positive']\n"
          ],
          "name": "stdout"
        }
      ]
    },
    {
      "cell_type": "code",
      "metadata": {
        "id": "DqOauMIXoY55"
      },
      "source": [
        ""
      ],
      "execution_count": 57,
      "outputs": []
    }
  ]
}